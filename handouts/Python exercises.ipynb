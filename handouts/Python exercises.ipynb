{
 "cells": [
  {
   "cell_type": "markdown",
   "metadata": {},
   "source": [
    "# Startup\n",
    "\n",
    "1. Don't forget to fetch your class notes repo AND the textbook repo. \n",
    "2. Copy these files from the textbook repo into your class notes/exercises folder:\n",
    "    -  `ledatascifi-2023/handouts/Python exercises.ipynb`\n",
    "    - `ledatascifi-2023/content/01/06_python.ipynb`\n",
    "3. Suggested: Open this exercise file on one side of your Jupyterlab screen and the two files above on the other side of your screen. \n"
   ]
  },
  {
   "cell_type": "markdown",
   "metadata": {},
   "source": [
    "## As you solve the questions below:\n",
    "- use comments to take notes about code you're writing as you figure things out\n",
    "- take big picture notes in the module 1 notes file\n"
   ]
  },
  {
   "cell_type": "markdown",
   "metadata": {},
   "source": [
    "## Python essentials\n",
    "\n",
    "Loosely covers the [python essentials in 1.7.2](https://ledatascifi.github.io/ledatascifi-2023/content/01/06_python.html#python-essentials)"
   ]
  },
  {
   "cell_type": "code",
   "execution_count": 4,
   "metadata": {},
   "outputs": [],
   "source": [
    "# this is guided discussion AND practice,\n",
    "# follow along!\n",
    "\n",
    "# start running code from the textbook here\n",
    "# add as many new code cells as you want "
   ]
  },
  {
   "cell_type": "markdown",
   "metadata": {},
   "source": [
    "## Exercises (try, pair, share)\n",
    "\n",
    "1. Say hi to the person next to you\n",
    "2. [Try to guess each other's lie](https://github.com/LeDataSciFi/ledatascifi-2025/discussions/4)"
   ]
  },
  {
   "cell_type": "code",
   "execution_count": 6,
   "metadata": {
    "scrolled": true,
    "tags": []
   },
   "outputs": [
    {
     "name": "stdout",
     "output_type": "stream",
     "text": [
      "5\n",
      "8\n",
      "7\n",
      "[8, 5, 6, 3, 7, 3.14]\n",
      "8\n",
      "[8, 5, 6, 3, 7, 3.14]\n",
      "3.14\n"
     ]
    }
   ],
   "source": [
    "L=[8, 5, 6, 3, 7] # sq \n",
    "# 3 Print the first thing in it\n",
    "print(L[1]) # wait, that's not the first thing\n",
    "print(L[0]) # 0 index\n",
    "print(L[-1]) # -1 is the last thing\n",
    "\n",
    "L.append(3.14) # object dot syntax; object.method()\n",
    "print(L)\n",
    "\n",
    "# you can access \"slices\" of the data list\n",
    "L[2:4]\n",
    "\n",
    "print(L[0])\n",
    "print(L)\n",
    "print(L[-1])\n",
    "      "
   ]
  },
  {
   "cell_type": "code",
   "execution_count": 7,
   "metadata": {},
   "outputs": [
    {
     "name": "stdout",
     "output_type": "stream",
     "text": [
      "8\n",
      "5\n",
      "7\n",
      "3\n",
      "[3]\n"
     ]
    },
    {
     "data": {
      "text/plain": [
       "[8, 6, 7]"
      ]
     },
     "execution_count": 7,
     "metadata": {},
     "output_type": "execute_result"
    }
   ],
   "source": [
    "L=[8, 5, 6, 3, 7] # sq bracket means create list\n",
    "print(L[0])\n",
    "print(L[1])\n",
    "print(L[-1])\n",
    "print(L[-2])\n",
    "print(L[-2:-1])\n",
    "max(L)\n",
    "min(L)\n",
    "L[0],L[1] # This ouputs a tuple not a sublist\n",
    "L[0:2]\n",
    "L[:2] # If you don't say 0, it's assumed!\n",
    "L[-2:] # L[start:end] ... start can be negative! end is assumed\n",
    "L[-2:-1] # doesn't work! just grabs the -2 element\n",
    "L[-2:len(L)] # equiv to L[-2:]\n",
    "L[0], L[2], L[4] # MJ grabbed them manually, buts its a tuple again\n",
    "L.sort() # note: this changes L for good! (fine as long as you know and adjust)\n",
    "L[2:] # or 2:5, or -3:\n",
    "L[-3:]\n",
    "\n",
    "# Q9 3\n",
    "L=[8, 5, 6, 3, 7]\n",
    "L[::2] # list slice: start, end, increment"
   ]
  },
  {
   "cell_type": "markdown",
   "metadata": {
    "slideshow": {
     "slide_type": "subslide"
    }
   },
   "source": [
    "Write code that does the following with  the vector `L`. Discuss with the person next to you as needed:\n",
    "\n",
    "1. Returns the length.\n",
    "1. Returns the largest element.\n",
    "1. Returns the smallest element.\n",
    "1. Returns the total of the vector.\n",
    "2. Returns the first element. See [this awesome answer](https://stackoverflow.com/questions/509211/understanding-slice-notation?rq=1) to learn about \"slicing\" lists in Python. If that link is dead: https://stackoverflow.com/questions/509211/understanding-slice-notation?rq=1 \n",
    "2. Returns the last element.\n",
    "2. Returns the first 2 elements.\n",
    "2. Returns the last 2 elements.\n",
    "2. Returns the odd numbered elements (i.e. [8,6,7].\n",
    "1. Clear your output and restart the kernel, then rerun your code. \n"
   ]
  },
  {
   "cell_type": "code",
   "execution_count": 9,
   "metadata": {
    "slideshow": {
     "slide_type": "subslide"
    },
    "tags": [
     "popout"
    ]
   },
   "outputs": [
    {
     "name": "stdout",
     "output_type": "stream",
     "text": [
      "starting new block\n",
      "I am here\n"
     ]
    }
   ],
   "source": [
    "x = 7\n",
    "if x < 5:       # this is false, obviously,\n",
    "    z = x+2        # so this never runs and \n",
    "    print('I am not here.') # this doesn't print\n",
    "print('starting new block')\n",
    "if x < 5:       # this is false, obviously,\n",
    "    z = x+2        # so this never runs and \n",
    "print('I am here') # this does print"
   ]
  },
  {
   "cell_type": "code",
   "execution_count": 10,
   "metadata": {},
   "outputs": [
    {
     "name": "stdout",
     "output_type": "stream",
     "text": [
      "But I will!\n"
     ]
    }
   ],
   "source": [
    "if 7 < 5:\n",
    "    print('I will not print.')\n",
    "print('But I will!')"
   ]
  },
  {
   "cell_type": "code",
   "execution_count": 11,
   "metadata": {},
   "outputs": [
    {
     "name": "stdout",
     "output_type": "stream",
     "text": [
      "az\n",
      "ca\n",
      "mi\n",
      "ny\n",
      "md\n",
      "dc\n",
      "va\n",
      "fl\n"
     ]
    }
   ],
   "source": [
    "states = ['az','ca','mi','ny','md','dc','va','fl']\n",
    "for state in states:\n",
    "    # do something with each element of the list\n",
    "    # I need a \"name to refer to each element\n",
    "    print(state)\n",
    "    # print the name of the state"
   ]
  },
  {
   "cell_type": "code",
   "execution_count": 12,
   "metadata": {},
   "outputs": [
    {
     "name": "stdout",
     "output_type": "stream",
     "text": [
      "----\n",
      "now, state= ca\n",
      "CA\n"
     ]
    },
    {
     "ename": "NameError",
     "evalue": "name 'capitalized_abbrevs' is not defined",
     "output_type": "error",
     "traceback": [
      "\u001b[1;31m---------------------------------------------------------------------------\u001b[0m",
      "\u001b[1;31mNameError\u001b[0m                                 Traceback (most recent call last)",
      "Cell \u001b[1;32mIn[12], line 13\u001b[0m\n\u001b[0;32m     11\u001b[0m \u001b[38;5;28mprint\u001b[39m(state)\n\u001b[0;32m     12\u001b[0m \u001b[38;5;66;03m# So now store that answer\u001b[39;00m\n\u001b[1;32m---> 13\u001b[0m capitalized_abbrevs\u001b[38;5;241m.\u001b[39mextend(state)\n\u001b[0;32m     15\u001b[0m \u001b[38;5;66;03m# print out the evolving answer:\u001b[39;00m\n\u001b[0;32m     16\u001b[0m \u001b[38;5;28mprint\u001b[39m(capitalized_abbrevs)\n",
      "\u001b[1;31mNameError\u001b[0m: name 'capitalized_abbrevs' is not defined"
     ]
    }
   ],
   "source": [
    "# goal is this loop: capatilize the address\n",
    "\n",
    "# think about how to accomplish that\n",
    "# 1. only loop over part of the object\n",
    "# 2. every time you manipulate an object in a loop, print it\n",
    "for state in states[1:3]: # for state in (just a few states)\n",
    "    print(\"----\") # just to delonate loop steps\n",
    "    print(\"now, state=\",state)\n",
    "    # so I can manipulate an abject called state\n",
    "    state = state.upper()\n",
    "    print(state)\n",
    "    # So now store that answer\n",
    "    capitalized_abbrevs.extend(state)\n",
    "\n",
    "    # print out the evolving answer:\n",
    "    print(capitalized_abbrevs)\n",
    "\n",
    "# print the ending (outside the for loop)\n",
    "capitalized_abbrevs"
   ]
  },
  {
   "cell_type": "code",
   "execution_count": null,
   "metadata": {},
   "outputs": [],
   "source": [
    "FUNCTIONS\n",
    "\n",
    "DEF name of function, you name arguments; do stuff, you might print stuff, helps you see things happening, but the key is that you return something and what you returned can use clear\n",
    "\n",
    "def NAME_OF_FUNCTION(you_name_arguments):\n",
    "    do_stuff\n",
    "    print(stuff) # helps you see things happening\n",
    "return something # what you return, can be used later, after running function"
   ]
  },
  {
   "cell_type": "code",
   "execution_count": null,
   "metadata": {},
   "outputs": [],
   "source": [
    "def_silly"
   ]
  }
 ],
 "metadata": {
  "celltoolbar": "Tags",
  "kernelspec": {
   "display_name": "Python [conda env:base] *",
   "language": "python",
   "name": "conda-base-py"
  },
  "language_info": {
   "codemirror_mode": {
    "name": "ipython",
    "version": 3
   },
   "file_extension": ".py",
   "mimetype": "text/x-python",
   "name": "python",
   "nbconvert_exporter": "python",
   "pygments_lexer": "ipython3",
   "version": "3.12.7"
  }
 },
 "nbformat": 4,
 "nbformat_minor": 4
}
